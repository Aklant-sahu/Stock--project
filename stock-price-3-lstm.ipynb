{
 "cells": [
  {
   "cell_type": "code",
   "execution_count": 1,
   "id": "aa98110e",
   "metadata": {},
   "outputs": [],
   "source": [
    "import pandas as pd\n",
    "import numpy as np\n",
    "import matplotlib.pyplot as plt\n",
    "import seaborn as sns\n",
    "import pandas_ta"
   ]
  },
  {
   "cell_type": "code",
   "execution_count": 2,
   "id": "cc278833",
   "metadata": {},
   "outputs": [],
   "source": [
    "\n",
    "\n",
    "df=pd.read_csv('TCS.NS.csv')\n",
    "\n",
    "\n",
    "df[df['Open'].isnull()==True]\n",
    "\n",
    "\n",
    "df=df.dropna()\n",
    "\n"
   ]
  },
  {
   "cell_type": "code",
   "execution_count": 4,
   "id": "d9557869",
   "metadata": {},
   "outputs": [
    {
     "data": {
      "text/plain": [
       "Index(['Date', 'Open', 'High', 'Low', 'Close', 'Adj Close', 'Volume'], dtype='object')"
      ]
     },
     "execution_count": 4,
     "metadata": {},
     "output_type": "execute_result"
    }
   ],
   "source": [
    "df.columns\n",
    "\n"
   ]
  },
  {
   "cell_type": "code",
   "execution_count": 5,
   "id": "bb84da39",
   "metadata": {},
   "outputs": [],
   "source": [
    "def cleansort(data):\n",
    "   \n",
    "    data['Date']=pd.to_datetime(data['Date'])\n",
    "    data=data.sort_values(by='Date')\n",
    "    data.set_index(pd.DatetimeIndex(data['Date']), inplace=True)\n",
    "    try:\n",
    "        data=data.drop(['Date'],axis=1)\n",
    "    except:\n",
    "        pass\n",
    "    \n",
    "    \n",
    "    return data"
   ]
  },
  {
   "cell_type": "code",
   "execution_count": 26,
   "id": "e651d53f",
   "metadata": {},
   "outputs": [],
   "source": [
    "def tech_indicators(data):\n",
    "    data.ta.rsi(close='Close', length=10, append=True)\n",
    "    data.ta.ema(close='Close', length=10, append=True)\n",
    "    data=data[10:]\n",
    "    #data.ta.cdl_pattern(name=\"all\",append=True)\n",
    "    #data.ta.strategy(\"momentum\")\n",
    "    return data"
   ]
  },
  {
   "cell_type": "code",
   "execution_count": 34,
   "id": "a8d5bfbb",
   "metadata": {},
   "outputs": [],
   "source": [
    "def datashift(data):\n",
    "    \n",
    "    col=data.columns\n",
    "    \n",
    "    ### ltp== last traded price\n",
    "    ### vwap= volume weighted average price\n",
    "    data=data.reset_index(drop=True)\n",
    "    for j in col:\n",
    "        x=[]\n",
    "        for i in range(len(data)):\n",
    "            if (i==0):\n",
    "                x.append(0)\n",
    "            else:\n",
    "                x.append(data[j][i-1])\n",
    "        nam='prev_'+j\n",
    "        data[nam]=x\n",
    "    data['openingprice_diff']=data['Open']-data['prev_Open']\n",
    "    data['prev_h_l_diff']=data['prev_High']-data['prev_Low']\n",
    "    data['open_close_diff']=data['prev_Open']-data['prev_Close']\n",
    "    col= [e for e in col if e not in ('Close')]\n",
    "    data=data.drop(col,axis=1)\n",
    "    data=data[1:]\n",
    "    data=data.reset_index(drop=True)\n",
    "    #data=data.drop(['PREV. CLOSE '],axis=1)\n",
    "    return data"
   ]
  },
  {
   "cell_type": "code",
   "execution_count": 35,
   "id": "f40b7fe2",
   "metadata": {},
   "outputs": [],
   "source": [
    "def buysell(data):\n",
    "    act=[]\n",
    "    for i in range(len(data)):\n",
    "        \n",
    "        if (data['Close'][i] > data['prev_Close'][i]):\n",
    "            act.append(1)\n",
    "        else:\n",
    "            act.append(0)\n",
    "\n",
    "    data['action']=act\n",
    "    data=data.drop('Close',axis=1)\n",
    "    return data"
   ]
  },
  {
   "cell_type": "code",
   "execution_count": 36,
   "id": "1f68ec60",
   "metadata": {},
   "outputs": [],
   "source": [
    "\n",
    "def xy(data):\n",
    "    X=data.drop('Close',axis=1)\n",
    "    y=data['Close']\n",
    "    return X,y"
   ]
  },
  {
   "cell_type": "code",
   "execution_count": 37,
   "id": "a13cd27d",
   "metadata": {},
   "outputs": [],
   "source": [
    "a=cleansort(df.copy())\n",
    "b=tech_indicators(a)\n",
    "c=datashift(b)\n",
    "\n",
    "X,y=xy(c)"
   ]
  },
  {
   "cell_type": "code",
   "execution_count": 38,
   "id": "65e49323",
   "metadata": {},
   "outputs": [
    {
     "data": {
      "text/plain": [
       "[<matplotlib.lines.Line2D at 0x1b6393d75c8>]"
      ]
     },
     "execution_count": 38,
     "metadata": {},
     "output_type": "execute_result"
    },
    {
     "data": {
      "image/png": "[encoded data removed]",
      "text/plain": [
       "<Figure size 432x288 with 1 Axes>"
      ]
     },
     "metadata": {
      "needs_background": "light"
     },
     "output_type": "display_data"
    }
   ],
   "source": [
    "plt.plot(range(len(y)),y)"
   ]
  },
  {
   "cell_type": "code",
   "execution_count": 39,
   "id": "4820696c",
   "metadata": {},
   "outputs": [
    {
     "data": {
      "text/html": [
       "<div>\n",
       "<style scoped>\n",
       "    .dataframe tbody tr th:only-of-type {\n",
       "        vertical-align: middle;\n",
       "    }\n",
       "\n",
       "    .dataframe tbody tr th {\n",
       "        vertical-align: top;\n",
       "    }\n",
       "\n",
       "    .dataframe thead th {\n",
       "        text-align: right;\n",
       "    }\n",
       "</style>\n",
       "<table border=\"1\" class=\"dataframe\">\n",
       "  <thead>\n",
       "    <tr style=\"text-align: right;\">\n",
       "      <th></th>\n",
       "      <th>prev_Open</th>\n",
       "      <th>prev_High</th>\n",
       "      <th>prev_Low</th>\n",
       "      <th>prev_Close</th>\n",
       "      <th>prev_Adj Close</th>\n",
       "      <th>prev_Volume</th>\n",
       "      <th>prev_RSI_10</th>\n",
       "      <th>prev_EMA_10</th>\n",
       "      <th>openingprice_diff</th>\n",
       "      <th>prev_h_l_diff</th>\n",
       "      <th>open_close_diff</th>\n",
       "    </tr>\n",
       "  </thead>\n",
       "  <tbody>\n",
       "    <tr>\n",
       "      <th>0</th>\n",
       "      <td>377.500000</td>\n",
       "      <td>381.325012</td>\n",
       "      <td>367.500000</td>\n",
       "      <td>369.200012</td>\n",
       "      <td>295.245087</td>\n",
       "      <td>4739188.0</td>\n",
       "      <td>11.887707</td>\n",
       "      <td>378.625460</td>\n",
       "      <td>-5.500000</td>\n",
       "      <td>13.825012</td>\n",
       "      <td>8.299988</td>\n",
       "    </tr>\n",
       "    <tr>\n",
       "      <th>1</th>\n",
       "      <td>372.000000</td>\n",
       "      <td>378.450012</td>\n",
       "      <td>367.750000</td>\n",
       "      <td>376.475006</td>\n",
       "      <td>301.062927</td>\n",
       "      <td>2977676.0</td>\n",
       "      <td>26.151534</td>\n",
       "      <td>378.234468</td>\n",
       "      <td>4.475006</td>\n",
       "      <td>10.700012</td>\n",
       "      <td>-4.475006</td>\n",
       "    </tr>\n",
       "    <tr>\n",
       "      <th>2</th>\n",
       "      <td>376.475006</td>\n",
       "      <td>376.950012</td>\n",
       "      <td>366.250000</td>\n",
       "      <td>369.350006</td>\n",
       "      <td>295.365082</td>\n",
       "      <td>2716612.0</td>\n",
       "      <td>22.234659</td>\n",
       "      <td>376.619112</td>\n",
       "      <td>-8.975006</td>\n",
       "      <td>10.700012</td>\n",
       "      <td>7.125000</td>\n",
       "    </tr>\n",
       "    <tr>\n",
       "      <th>3</th>\n",
       "      <td>367.500000</td>\n",
       "      <td>367.500000</td>\n",
       "      <td>358.299988</td>\n",
       "      <td>361.750000</td>\n",
       "      <td>289.287445</td>\n",
       "      <td>4607118.0</td>\n",
       "      <td>18.882736</td>\n",
       "      <td>373.915637</td>\n",
       "      <td>-3.000000</td>\n",
       "      <td>9.200012</td>\n",
       "      <td>5.750000</td>\n",
       "    </tr>\n",
       "    <tr>\n",
       "      <th>4</th>\n",
       "      <td>364.500000</td>\n",
       "      <td>367.375000</td>\n",
       "      <td>354.075012</td>\n",
       "      <td>362.075012</td>\n",
       "      <td>289.547363</td>\n",
       "      <td>4170344.0</td>\n",
       "      <td>19.459662</td>\n",
       "      <td>371.762796</td>\n",
       "      <td>-2.000000</td>\n",
       "      <td>13.299988</td>\n",
       "      <td>2.424988</td>\n",
       "    </tr>\n",
       "    <tr>\n",
       "      <th>...</th>\n",
       "      <td>...</td>\n",
       "      <td>...</td>\n",
       "      <td>...</td>\n",
       "      <td>...</td>\n",
       "      <td>...</td>\n",
       "      <td>...</td>\n",
       "      <td>...</td>\n",
       "      <td>...</td>\n",
       "      <td>...</td>\n",
       "      <td>...</td>\n",
       "      <td>...</td>\n",
       "    </tr>\n",
       "    <tr>\n",
       "      <th>2945</th>\n",
       "      <td>3820.000000</td>\n",
       "      <td>3864.899902</td>\n",
       "      <td>3796.399902</td>\n",
       "      <td>3853.500000</td>\n",
       "      <td>3853.500000</td>\n",
       "      <td>2460591.0</td>\n",
       "      <td>69.600548</td>\n",
       "      <td>3784.874954</td>\n",
       "      <td>158.000000</td>\n",
       "      <td>68.500000</td>\n",
       "      <td>-33.500000</td>\n",
       "    </tr>\n",
       "    <tr>\n",
       "      <th>2946</th>\n",
       "      <td>3978.000000</td>\n",
       "      <td>3978.000000</td>\n",
       "      <td>3861.000000</td>\n",
       "      <td>3879.850098</td>\n",
       "      <td>3879.850098</td>\n",
       "      <td>3937092.0</td>\n",
       "      <td>71.904525</td>\n",
       "      <td>3802.143162</td>\n",
       "      <td>-122.000000</td>\n",
       "      <td>117.000000</td>\n",
       "      <td>98.149902</td>\n",
       "    </tr>\n",
       "    <tr>\n",
       "      <th>2947</th>\n",
       "      <td>3856.000000</td>\n",
       "      <td>3925.000000</td>\n",
       "      <td>3856.000000</td>\n",
       "      <td>3915.899902</td>\n",
       "      <td>3915.899902</td>\n",
       "      <td>1906106.0</td>\n",
       "      <td>74.807012</td>\n",
       "      <td>3822.826206</td>\n",
       "      <td>69.000000</td>\n",
       "      <td>69.000000</td>\n",
       "      <td>-59.899902</td>\n",
       "    </tr>\n",
       "    <tr>\n",
       "      <th>2948</th>\n",
       "      <td>3925.000000</td>\n",
       "      <td>3929.000000</td>\n",
       "      <td>3836.550049</td>\n",
       "      <td>3859.899902</td>\n",
       "      <td>3859.899902</td>\n",
       "      <td>3203744.0</td>\n",
       "      <td>63.486682</td>\n",
       "      <td>3829.566878</td>\n",
       "      <td>-7.000000</td>\n",
       "      <td>92.449951</td>\n",
       "      <td>65.100098</td>\n",
       "    </tr>\n",
       "    <tr>\n",
       "      <th>2949</th>\n",
       "      <td>3918.000000</td>\n",
       "      <td>3923.000000</td>\n",
       "      <td>3857.000000</td>\n",
       "      <td>3897.899902</td>\n",
       "      <td>3897.899902</td>\n",
       "      <td>6684507.0</td>\n",
       "      <td>67.226053</td>\n",
       "      <td>3841.991064</td>\n",
       "      <td>-40.149902</td>\n",
       "      <td>66.000000</td>\n",
       "      <td>20.100098</td>\n",
       "    </tr>\n",
       "  </tbody>\n",
       "</table>\n",
       "<p>2950 rows × 11 columns</p>\n",
       "</div>"
      ],
      "text/plain": [
       "        prev_Open    prev_High     prev_Low   prev_Close  prev_Adj Close  \\\n",
       "0      377.500000   381.325012   367.500000   369.200012      295.245087   \n",
       "1      372.000000   378.450012   367.750000   376.475006      301.062927   \n",
       "2      376.475006   376.950012   366.250000   369.350006      295.365082   \n",
       "3      367.500000   367.500000   358.299988   361.750000      289.287445   \n",
       "4      364.500000   367.375000   354.075012   362.075012      289.547363   \n",
       "...           ...          ...          ...          ...             ...   \n",
       "2945  3820.000000  3864.899902  3796.399902  3853.500000     3853.500000   \n",
       "2946  3978.000000  3978.000000  3861.000000  3879.850098     3879.850098   \n",
       "2947  3856.000000  3925.000000  3856.000000  3915.899902     3915.899902   \n",
       "2948  3925.000000  3929.000000  3836.550049  3859.899902     3859.899902   \n",
       "2949  3918.000000  3923.000000  3857.000000  3897.899902     3897.899902   \n",
       "\n",
       "      prev_Volume  prev_RSI_10  prev_EMA_10  openingprice_diff  prev_h_l_diff  \\\n",
       "0       4739188.0    11.887707   378.625460          -5.500000      13.825012   \n",
       "1       2977676.0    26.151534   378.234468           4.475006      10.700012   \n",
       "2       2716612.0    22.234659   376.619112          -8.975006      10.700012   \n",
       "3       4607118.0    18.882736   373.915637          -3.000000       9.200012   \n",
       "4       4170344.0    19.459662   371.762796          -2.000000      13.299988   \n",
       "...           ...          ...          ...                ...            ...   \n",
       "2945    2460591.0    69.600548  3784.874954         158.000000      68.500000   \n",
       "2946    3937092.0    71.904525  3802.143162        -122.000000     117.000000   \n",
       "2947    1906106.0    74.807012  3822.826206          69.000000      69.000000   \n",
       "2948    3203744.0    63.486682  3829.566878          -7.000000      92.449951   \n",
       "2949    6684507.0    67.226053  3841.991064         -40.149902      66.000000   \n",
       "\n",
       "      open_close_diff  \n",
       "0            8.299988  \n",
       "1           -4.475006  \n",
       "2            7.125000  \n",
       "3            5.750000  \n",
       "4            2.424988  \n",
       "...               ...  \n",
       "2945       -33.500000  \n",
       "2946        98.149902  \n",
       "2947       -59.899902  \n",
       "2948        65.100098  \n",
       "2949        20.100098  \n",
       "\n",
       "[2950 rows x 11 columns]"
      ]
     },
     "execution_count": 39,
     "metadata": {},
     "output_type": "execute_result"
    }
   ],
   "source": [
    "X"
   ]
  },
  {
   "cell_type": "code",
   "execution_count": 32,
   "id": "2959b34c",
   "metadata": {},
   "outputs": [],
   "source": [
    "import math\n",
    "import matplotlib.pyplot as plt\n",
    "import keras\n",
    "import pandas as pd\n",
    "import numpy as np\n",
    "from keras.models import Sequential\n",
    "from keras.layers import Dense\n",
    "from keras.layers import LSTM\n",
    "from keras.layers import Dropout\n",
    "from keras.layers import *\n",
    "from sklearn.preprocessing import MinMaxScaler\n",
    "from sklearn.metrics import mean_squared_error\n",
    "from sklearn.metrics import mean_absolute_error\n",
    "from sklearn.model_selection import train_test_split\n",
    "from keras.callbacks import EarlyStopping"
   ]
  },
  {
   "cell_type": "code",
   "execution_count": 68,
   "id": "05b451e5",
   "metadata": {},
   "outputs": [],
   "source": [
    "dataset=y.values\n"
   ]
  },
  {
   "cell_type": "code",
   "execution_count": null,
   "id": "6e08f1da",
   "metadata": {},
   "outputs": [],
   "source": []
  },
  {
   "cell_type": "code",
   "execution_count": null,
   "id": "b8f1d42e",
   "metadata": {},
   "outputs": [],
   "source": []
  },
  {
   "cell_type": "code",
   "execution_count": 69,
   "id": "f4e73534",
   "metadata": {},
   "outputs": [
    {
     "data": {
      "text/plain": [
       "2950"
      ]
     },
     "execution_count": 69,
     "metadata": {},
     "output_type": "execute_result"
    }
   ],
   "source": [
    "len(y)"
   ]
  },
  {
   "cell_type": "code",
   "execution_count": null,
   "id": "c5dbf872",
   "metadata": {},
   "outputs": [],
   "source": []
  },
  {
   "cell_type": "code",
   "execution_count": 210,
   "id": "ae7848a7",
   "metadata": {},
   "outputs": [],
   "source": [
    "from sklearn.preprocessing import MinMaxScaler"
   ]
  },
  {
   "cell_type": "code",
   "execution_count": 211,
   "id": "5b23b4b4",
   "metadata": {},
   "outputs": [],
   "source": [
    "sc = MinMaxScaler(feature_range = (0, 1))\n",
    "scaled_data= sc.fit_transform(np.reshape(dataset,(len(dataset),1)))"
   ]
  },
  {
   "cell_type": "code",
   "execution_count": null,
   "id": "69aa1300",
   "metadata": {},
   "outputs": [],
   "source": [
    "\n"
   ]
  },
  {
   "cell_type": "code",
   "execution_count": 212,
   "id": "7340e1a1",
   "metadata": {},
   "outputs": [
    {
     "data": {
      "text/plain": [
       "array([[0.00737901],\n",
       "       [0.00540989],\n",
       "       [0.0033095 ],\n",
       "       ...,\n",
       "       [0.97008325],\n",
       "       [0.98058521],\n",
       "       [1.        ]])"
      ]
     },
     "execution_count": 212,
     "metadata": {},
     "output_type": "execute_result"
    }
   ],
   "source": [
    "scaled_data"
   ]
  },
  {
   "cell_type": "code",
   "execution_count": 213,
   "id": "d25fc89e",
   "metadata": {},
   "outputs": [],
   "source": [
    "# Feature Scaling\n",
    "day=20\n",
    "\n",
    "# Creating a data structure with 60 time-steps and 1 output\n",
    "X_train = []\n",
    "y_train = []\n",
    "for i in range(day,2500):\n",
    "    X_train.append(scaled_data[i-day:i, 0])\n",
    "    y_train.append(scaled_data[i, 0])\n",
    "X_train, y_train = np.array(X_train), np.array(y_train)\n",
    "X_train = np.reshape(X_train, (X_train.shape[0], X_train.shape[1], 1))\n",
    "#(740, 60, 1)"
   ]
  },
  {
   "cell_type": "code",
   "execution_count": 214,
   "id": "1742d609",
   "metadata": {},
   "outputs": [
    {
     "data": {
      "text/plain": [
       "array([[[0.00737901],\n",
       "        [0.00540989],\n",
       "        [0.0033095 ],\n",
       "        ...,\n",
       "        [0.00879539],\n",
       "        [0.00956231],\n",
       "        [0.00889212]],\n",
       "\n",
       "       [[0.00540989],\n",
       "        [0.0033095 ],\n",
       "        [0.00339932],\n",
       "        ...,\n",
       "        [0.00956231],\n",
       "        [0.00889212],\n",
       "        [0.00871247]],\n",
       "\n",
       "       [[0.0033095 ],\n",
       "        [0.00339932],\n",
       "        [0.00491934],\n",
       "        ...,\n",
       "        [0.00889212],\n",
       "        [0.00871247],\n",
       "        [0.0087263 ]],\n",
       "\n",
       "       ...,\n",
       "\n",
       "       [[0.49940238],\n",
       "        [0.48794698],\n",
       "        [0.4992227 ],\n",
       "        ...,\n",
       "        [0.36055552],\n",
       "        [0.35556707],\n",
       "        [0.40008982]],\n",
       "\n",
       "       [[0.48794698],\n",
       "        [0.4992227 ],\n",
       "        [0.49022701],\n",
       "        ...,\n",
       "        [0.35556707],\n",
       "        [0.40008982],\n",
       "        [0.36478391]],\n",
       "\n",
       "       [[0.4992227 ],\n",
       "        [0.49022701],\n",
       "        [0.48522474],\n",
       "        ...,\n",
       "        [0.40008982],\n",
       "        [0.36478391],\n",
       "        [0.37402841]]])"
      ]
     },
     "execution_count": 214,
     "metadata": {},
     "output_type": "execute_result"
    }
   ],
   "source": [
    "X_train"
   ]
  },
  {
   "cell_type": "code",
   "execution_count": 185,
   "id": "a58483dc",
   "metadata": {},
   "outputs": [
    {
     "name": "stdout",
     "output_type": "stream",
     "text": [
      "Epoch 1/100\n",
      "WARNING:tensorflow:AutoGraph could not transform <function Model.make_train_function.<locals>.train_function at 0x000001B60C2775E8> and will run it as-is.\n",
      "Please report this to the TensorFlow team. When filing the bug, set the verbosity to 10 (on Linux, `export AUTOGRAPH_VERBOSITY=10`) and attach the full output.\n",
      "Cause: 'arguments' object has no attribute 'posonlyargs'\n",
      "To silence this warning, decorate the function with @tf.autograph.experimental.do_not_convert\n",
      "WARNING: AutoGraph could not transform <function Model.make_train_function.<locals>.train_function at 0x000001B60C2775E8> and will run it as-is.\n",
      "Please report this to the TensorFlow team. When filing the bug, set the verbosity to 10 (on Linux, `export AUTOGRAPH_VERBOSITY=10`) and attach the full output.\n",
      "Cause: 'arguments' object has no attribute 'posonlyargs'\n",
      "To silence this warning, decorate the function with @tf.autograph.experimental.do_not_convert\n",
      "39/39 [==============================] - 10s 41ms/step - loss: 0.0119\n",
      "Epoch 2/100\n",
      "39/39 [==============================] - 2s 41ms/step - loss: 0.0039\n",
      "Epoch 3/100\n",
      "39/39 [==============================] - 1s 39ms/step - loss: 0.0027\n",
      "Epoch 4/100\n",
      "39/39 [==============================] - 2s 39ms/step - loss: 0.0024\n",
      "Epoch 5/100\n",
      "39/39 [==============================] - 2s 40ms/step - loss: 0.0025\n",
      "Epoch 6/100\n",
      "39/39 [==============================] - 2s 40ms/step - loss: 0.0022\n",
      "Epoch 7/100\n",
      "39/39 [==============================] - 2s 39ms/step - loss: 0.0020\n",
      "Epoch 8/100\n",
      "39/39 [==============================] - 2s 40ms/step - loss: 0.0018\n",
      "Epoch 9/100\n",
      "39/39 [==============================] - 2s 39ms/step - loss: 0.0019\n",
      "Epoch 10/100\n",
      "39/39 [==============================] - 2s 40ms/step - loss: 0.0017\n",
      "Epoch 11/100\n",
      "39/39 [==============================] - 2s 41ms/step - loss: 0.0015\n",
      "Epoch 12/100\n",
      "39/39 [==============================] - 2s 39ms/step - loss: 0.0015\n",
      "Epoch 13/100\n",
      "39/39 [==============================] - 2s 41ms/step - loss: 0.0014\n",
      "Epoch 14/100\n",
      "39/39 [==============================] - 2s 41ms/step - loss: 0.0015\n",
      "Epoch 15/100\n",
      "39/39 [==============================] - 2s 40ms/step - loss: 0.0013\n",
      "Epoch 16/100\n",
      "39/39 [==============================] - 2s 40ms/step - loss: 0.0012\n",
      "Epoch 17/100\n",
      "39/39 [==============================] - 2s 40ms/step - loss: 0.0011\n",
      "Epoch 18/100\n",
      "39/39 [==============================] - 2s 40ms/step - loss: 0.0012\n",
      "Epoch 19/100\n",
      "39/39 [==============================] - 1s 39ms/step - loss: 0.0011\n",
      "Epoch 20/100\n",
      "39/39 [==============================] - 2s 39ms/step - loss: 0.0011\n",
      "Epoch 21/100\n",
      "39/39 [==============================] - 2s 40ms/step - loss: 0.0010\n",
      "Epoch 22/100\n",
      "39/39 [==============================] - 2s 40ms/step - loss: 0.0011\n",
      "Epoch 23/100\n",
      "39/39 [==============================] - 2s 40ms/step - loss: 9.8918e-04\n",
      "Epoch 24/100\n",
      "39/39 [==============================] - 2s 42ms/step - loss: 9.8352e-04\n",
      "Epoch 25/100\n",
      "39/39 [==============================] - 2s 42ms/step - loss: 0.0010\n",
      "Epoch 26/100\n",
      "39/39 [==============================] - 1s 38ms/step - loss: 9.5629e-04\n",
      "Epoch 27/100\n",
      "39/39 [==============================] - 2s 40ms/step - loss: 9.4082e-04\n",
      "Epoch 28/100\n",
      "39/39 [==============================] - 2s 41ms/step - loss: 8.8838e-04\n",
      "Epoch 29/100\n",
      "39/39 [==============================] - 2s 40ms/step - loss: 9.0039e-04\n",
      "Epoch 30/100\n",
      "39/39 [==============================] - 1s 38ms/step - loss: 8.7358e-04\n",
      "Epoch 31/100\n",
      "39/39 [==============================] - 2s 39ms/step - loss: 8.3806e-04\n",
      "Epoch 32/100\n",
      "39/39 [==============================] - 2s 39ms/step - loss: 8.2406e-04\n",
      "Epoch 33/100\n",
      "39/39 [==============================] - 2s 43ms/step - loss: 8.7560e-04\n",
      "Epoch 34/100\n",
      "39/39 [==============================] - 2s 43ms/step - loss: 9.4415e-04\n",
      "Epoch 35/100\n",
      "39/39 [==============================] - 2s 39ms/step - loss: 8.5973e-04\n",
      "Epoch 36/100\n",
      "39/39 [==============================] - 2s 41ms/step - loss: 8.5861e-04\n",
      "Epoch 37/100\n",
      "39/39 [==============================] - 2s 40ms/step - loss: 7.5933e-04\n",
      "Epoch 38/100\n",
      "39/39 [==============================] - 2s 40ms/step - loss: 8.3810e-04\n",
      "Epoch 39/100\n",
      "39/39 [==============================] - 2s 41ms/step - loss: 7.8998e-04\n",
      "Epoch 40/100\n",
      "39/39 [==============================] - 2s 42ms/step - loss: 8.4326e-04\n",
      "Epoch 41/100\n",
      "39/39 [==============================] - 2s 40ms/step - loss: 8.4998e-04\n",
      "Epoch 42/100\n",
      "39/39 [==============================] - 2s 41ms/step - loss: 8.3476e-04\n",
      "Epoch 43/100\n",
      "39/39 [==============================] - 1s 38ms/step - loss: 8.3723e-04\n",
      "Epoch 44/100\n",
      "39/39 [==============================] - 2s 47ms/step - loss: 8.4593e-04\n",
      "Epoch 45/100\n",
      "39/39 [==============================] - 2s 40ms/step - loss: 7.9029e-04\n",
      "Epoch 46/100\n",
      "39/39 [==============================] - 1s 38ms/step - loss: 8.5846e-04\n",
      "Epoch 47/100\n",
      "39/39 [==============================] - 1s 38ms/step - loss: 7.5695e-04\n",
      "Epoch 48/100\n",
      "39/39 [==============================] - 2s 37ms/step - loss: 8.0234e-04\n",
      "Epoch 49/100\n",
      "39/39 [==============================] - 2s 41ms/step - loss: 9.0395e-04\n",
      "Epoch 50/100\n",
      "39/39 [==============================] - 1s 38ms/step - loss: 7.9675e-04\n",
      "Epoch 51/100\n",
      "39/39 [==============================] - 2s 41ms/step - loss: 7.7024e-04\n",
      "Epoch 52/100\n",
      "39/39 [==============================] - 2s 40ms/step - loss: 7.3873e-04\n",
      "Epoch 53/100\n",
      "39/39 [==============================] - 2s 39ms/step - loss: 8.7464e-04\n",
      "Epoch 54/100\n",
      "39/39 [==============================] - 2s 40ms/step - loss: 8.4663e-04\n",
      "Epoch 55/100\n",
      "39/39 [==============================] - 2s 39ms/step - loss: 7.6158e-04\n",
      "Epoch 56/100\n",
      "39/39 [==============================] - 2s 40ms/step - loss: 7.7233e-04\n",
      "Epoch 57/100\n",
      "39/39 [==============================] - 1s 38ms/step - loss: 7.6498e-04\n",
      "Epoch 58/100\n",
      "39/39 [==============================] - 2s 39ms/step - loss: 7.6408e-04\n",
      "Epoch 59/100\n",
      "39/39 [==============================] - 2s 39ms/step - loss: 8.1081e-04\n",
      "Epoch 60/100\n",
      "39/39 [==============================] - 2s 39ms/step - loss: 7.5303e-04\n",
      "Epoch 61/100\n",
      "39/39 [==============================] - 2s 39ms/step - loss: 8.2083e-04\n",
      "Epoch 62/100\n",
      "39/39 [==============================] - 2s 40ms/step - loss: 7.3209e-04\n",
      "Epoch 63/100\n",
      "39/39 [==============================] - 2s 44ms/step - loss: 7.8472e-04\n",
      "Epoch 64/100\n",
      "39/39 [==============================] - 2s 40ms/step - loss: 7.2000e-04\n",
      "Epoch 65/100\n",
      "39/39 [==============================] - 2s 39ms/step - loss: 7.0683e-04\n",
      "Epoch 66/100\n",
      "39/39 [==============================] - 2s 40ms/step - loss: 7.2664e-04\n",
      "Epoch 67/100\n",
      "39/39 [==============================] - 2s 39ms/step - loss: 8.1923e-04\n",
      "Epoch 68/100\n",
      "39/39 [==============================] - 2s 42ms/step - loss: 7.1320e-04\n",
      "Epoch 69/100\n",
      "39/39 [==============================] - 2s 46ms/step - loss: 7.1677e-04\n",
      "Epoch 70/100\n",
      "39/39 [==============================] - 2s 43ms/step - loss: 7.7235e-04\n",
      "Epoch 71/100\n",
      "39/39 [==============================] - 2s 43ms/step - loss: 8.2024e-04\n",
      "Epoch 72/100\n",
      "39/39 [==============================] - 2s 48ms/step - loss: 9.1971e-04\n",
      "Epoch 73/100\n",
      "39/39 [==============================] - 2s 40ms/step - loss: 7.0914e-04\n",
      "Epoch 74/100\n",
      "39/39 [==============================] - 2s 40ms/step - loss: 7.1885e-04\n",
      "Epoch 75/100\n",
      "39/39 [==============================] - 2s 40ms/step - loss: 7.5564e-04\n",
      "Epoch 76/100\n",
      "39/39 [==============================] - 2s 39ms/step - loss: 7.3970e-04\n",
      "Epoch 77/100\n",
      "39/39 [==============================] - 2s 40ms/step - loss: 7.2742e-04\n",
      "Epoch 78/100\n",
      "39/39 [==============================] - 2s 39ms/step - loss: 7.6707e-04\n",
      "Epoch 79/100\n",
      "39/39 [==============================] - 2s 40ms/step - loss: 8.3349e-04\n",
      "Epoch 80/100\n",
      "39/39 [==============================] - 2s 39ms/step - loss: 7.6538e-04\n",
      "Epoch 81/100\n",
      "39/39 [==============================] - 2s 41ms/step - loss: 8.2959e-04\n",
      "Epoch 82/100\n",
      "39/39 [==============================] - 2s 38ms/step - loss: 7.1407e-04\n",
      "Epoch 83/100\n",
      "39/39 [==============================] - 2s 38ms/step - loss: 7.5207e-04\n",
      "Epoch 84/100\n",
      "39/39 [==============================] - 2s 40ms/step - loss: 7.4987e-04\n",
      "Epoch 85/100\n",
      "39/39 [==============================] - 2s 42ms/step - loss: 7.4363e-04\n",
      "Epoch 86/100\n",
      "39/39 [==============================] - 2s 39ms/step - loss: 7.5304e-04\n",
      "Epoch 87/100\n",
      "39/39 [==============================] - 1s 38ms/step - loss: 7.6021e-04\n",
      "Epoch 88/100\n",
      "39/39 [==============================] - 2s 40ms/step - loss: 7.4259e-04\n",
      "Epoch 89/100\n",
      "39/39 [==============================] - 1s 37ms/step - loss: 6.8269e-04\n",
      "Epoch 90/100\n",
      "39/39 [==============================] - 2s 39ms/step - loss: 7.4095e-04\n",
      "Epoch 91/100\n",
      "39/39 [==============================] - 1s 38ms/step - loss: 7.7093e-04\n",
      "Epoch 92/100\n",
      "39/39 [==============================] - 1s 36ms/step - loss: 7.0864e-04\n",
      "Epoch 93/100\n",
      "39/39 [==============================] - 2s 40ms/step - loss: 7.7643e-04\n",
      "Epoch 94/100\n",
      "39/39 [==============================] - 1s 37ms/step - loss: 8.0769e-04\n",
      "Epoch 95/100\n",
      "39/39 [==============================] - 2s 40ms/step - loss: 7.9014e-04: 0s - loss\n",
      "Epoch 96/100\n",
      "39/39 [==============================] - 2s 40ms/step - loss: 8.2021e-04\n",
      "Epoch 97/100\n",
      "39/39 [==============================] - 2s 39ms/step - loss: 7.0220e-04\n",
      "Epoch 98/100\n",
      "39/39 [==============================] - 2s 39ms/step - loss: 7.3162e-04\n",
      "Epoch 99/100\n",
      "39/39 [==============================] - 2s 40ms/step - loss: 7.8292e-04\n",
      "Epoch 100/100\n",
      "39/39 [==============================] - 2s 40ms/step - loss: 6.9745e-04\n"
     ]
    },
    {
     "data": {
      "text/plain": [
       "<keras.callbacks.History at 0x1b60c27bf48>"
      ]
     },
     "execution_count": 185,
     "metadata": {},
     "output_type": "execute_result"
    }
   ],
   "source": [
    "model = Sequential()\n",
    "#Adding the first LSTM layer and some Dropout regularisation\n",
    "model.add(LSTM(units = 50, return_sequences = True, input_shape = (X_train.shape[1], 1)))\n",
    "model.add(Dropout(0.2))\n",
    "# Adding a second LSTM layer and some Dropout regularisation\n",
    "model.add(LSTM(units = 50, return_sequences = True))\n",
    "model.add(Dropout(0.2))\n",
    "# Adding a third LSTM layer and some Dropout regularisation\n",
    "model.add(LSTM(units = 25, return_sequences = True))\n",
    "model.add(Dropout(0.2))\n",
    "# Adding a fourth LSTM layer and some Dropout regularisation\n",
    "model.add(LSTM(units = 10))\n",
    "model.add(Dropout(0.2))\n",
    "# Adding the output layer\n",
    "model.add(Dense(units = 1))\n",
    "\n",
    "# Compiling the RNN\n",
    "model.compile(optimizer = 'adam', loss = 'mean_squared_error')\n",
    "\n",
    "# Fitting the RNN to the Training set\n",
    "model.fit(X_train, y_train, epochs = 100, batch_size = 64)"
   ]
  },
  {
   "cell_type": "code",
   "execution_count": 196,
   "id": "1f7d6234",
   "metadata": {},
   "outputs": [
    {
     "name": "stdout",
     "output_type": "stream",
     "text": [
      "Model: \"sequential_7\"\n",
      "_________________________________________________________________\n",
      " Layer (type)                Output Shape              Param #   \n",
      "=================================================================\n",
      " lstm_28 (LSTM)              (None, 20, 50)            10400     \n",
      "                                                                 \n",
      " dropout_28 (Dropout)        (None, 20, 50)            0         \n",
      "                                                                 \n",
      " lstm_29 (LSTM)              (None, 20, 50)            20200     \n",
      "                                                                 \n",
      " dropout_29 (Dropout)        (None, 20, 50)            0         \n",
      "                                                                 \n",
      " lstm_30 (LSTM)              (None, 20, 25)            7600      \n",
      "                                                                 \n",
      " dropout_30 (Dropout)        (None, 20, 25)            0         \n",
      "                                                                 \n",
      " lstm_31 (LSTM)              (None, 10)                1440      \n",
      "                                                                 \n",
      " dropout_31 (Dropout)        (None, 10)                0         \n",
      "                                                                 \n",
      " dense_7 (Dense)             (None, 1)                 11        \n",
      "                                                                 \n",
      "=================================================================\n",
      "Total params: 39,651\n",
      "Trainable params: 39,651\n",
      "Non-trainable params: 0\n",
      "_________________________________________________________________\n"
     ]
    }
   ],
   "source": [
    "model.summary()"
   ]
  },
  {
   "cell_type": "code",
   "execution_count": 215,
   "id": "6d18fc8f",
   "metadata": {},
   "outputs": [],
   "source": [
    "test_data=scaled_data[(2500-10):,:]"
   ]
  },
  {
   "cell_type": "code",
   "execution_count": 216,
   "id": "7b810be8",
   "metadata": {},
   "outputs": [
    {
     "data": {
      "text/plain": [
       "(460, 1)"
      ]
     },
     "execution_count": 216,
     "metadata": {},
     "output_type": "execute_result"
    }
   ],
   "source": [
    "test_data.shape"
   ]
  },
  {
   "cell_type": "code",
   "execution_count": 225,
   "id": "6b9d3271",
   "metadata": {},
   "outputs": [],
   "source": [
    "X_test=[]\n",
    "y_test=dataset[2500:]\n",
    "for i in range(day,len(test_data)):\n",
    "    X_test.append(test_data[i-day:i, 0])"
   ]
  },
  {
   "cell_type": "code",
   "execution_count": null,
   "id": "78384cf5",
   "metadata": {},
   "outputs": [],
   "source": []
  },
  {
   "cell_type": "code",
   "execution_count": 226,
   "id": "3114b12a",
   "metadata": {},
   "outputs": [],
   "source": [
    "X_test = np.array(X_test)\n",
    "X_test= np.reshape(X_test, (X_test.shape[0], X_test.shape[1], 1))"
   ]
  },
  {
   "cell_type": "code",
   "execution_count": 227,
   "id": "3451abc8",
   "metadata": {},
   "outputs": [
    {
     "data": {
      "text/plain": [
       "(440, 20, 1)"
      ]
     },
     "execution_count": 227,
     "metadata": {},
     "output_type": "execute_result"
    }
   ],
   "source": [
    "X_test.shape"
   ]
  },
  {
   "cell_type": "code",
   "execution_count": 190,
   "id": "ea680bab",
   "metadata": {},
   "outputs": [
    {
     "name": "stdout",
     "output_type": "stream",
     "text": [
      "WARNING:tensorflow:AutoGraph could not transform <function Model.make_predict_function.<locals>.predict_function at 0x000001B66DE47708> and will run it as-is.\n",
      "Please report this to the TensorFlow team. When filing the bug, set the verbosity to 10 (on Linux, `export AUTOGRAPH_VERBOSITY=10`) and attach the full output.\n",
      "Cause: 'arguments' object has no attribute 'posonlyargs'\n",
      "To silence this warning, decorate the function with @tf.autograph.experimental.do_not_convert\n",
      "WARNING: AutoGraph could not transform <function Model.make_predict_function.<locals>.predict_function at 0x000001B66DE47708> and will run it as-is.\n",
      "Please report this to the TensorFlow team. When filing the bug, set the verbosity to 10 (on Linux, `export AUTOGRAPH_VERBOSITY=10`) and attach the full output.\n",
      "Cause: 'arguments' object has no attribute 'posonlyargs'\n",
      "To silence this warning, decorate the function with @tf.autograph.experimental.do_not_convert\n"
     ]
    }
   ],
   "source": [
    "predictions=model.predict(X_test)"
   ]
  },
  {
   "cell_type": "code",
   "execution_count": 191,
   "id": "4e482bad",
   "metadata": {},
   "outputs": [],
   "source": [
    "predictions=sc.inverse_transform(predictions)"
   ]
  },
  {
   "cell_type": "code",
   "execution_count": 99,
   "id": "d4518380",
   "metadata": {},
   "outputs": [
    {
     "data": {
      "text/plain": [
       "[<matplotlib.lines.Line2D at 0x1b64c2e5b88>]"
      ]
     },
     "execution_count": 99,
     "metadata": {},
     "output_type": "execute_result"
    },
    {
     "data": {
      "image/png": "[encoded data removed]",
      "text/plain": [
       "<Figure size 432x288 with 1 Axes>"
      ]
     },
     "metadata": {
      "needs_background": "light"
     },
     "output_type": "display_data"
    }
   ],
   "source": [
    "plt.plot(y_test[:10],'b')\n",
    "plt.plot(predictions[:10],'o')  ### 1 st model with min max scaling in range of 0-10"
   ]
  },
  {
   "cell_type": "code",
   "execution_count": 111,
   "id": "b3a56624",
   "metadata": {},
   "outputs": [
    {
     "data": {
      "text/plain": [
       "[<matplotlib.lines.Line2D at 0x1b64c8726c8>]"
      ]
     },
     "execution_count": 111,
     "metadata": {},
     "output_type": "execute_result"
    },
    {
     "data": {
      "image/png": "[encoded data removed]",
      "text/plain": [
       "<Figure size 432x288 with 1 Axes>"
      ]
     },
     "metadata": {
      "needs_background": "light"
     },
     "output_type": "display_data"
    }
   ],
   "source": [
    "plt.plot(y_test[:10])\n",
    "plt.plot(predictions[:10])   # 2 nd modle with range 0-100 "
   ]
  },
  {
   "cell_type": "code",
   "execution_count": 126,
   "id": "b7c81e53",
   "metadata": {},
   "outputs": [
    {
     "data": {
      "text/plain": [
       "[<matplotlib.lines.Line2D at 0x1b6618b5548>]"
      ]
     },
     "execution_count": 126,
     "metadata": {},
     "output_type": "execute_result"
    },
    {
     "data": {
      "image/png": "[encoded data removed]",
      "text/plain": [
       "<Figure size 432x288 with 1 Axes>"
      ]
     },
     "metadata": {
      "needs_background": "light"
     },
     "output_type": "display_data"
    }
   ],
   "source": [
    "plt.plot(y_test[:10]) # min max scaling 0-5\n",
    "plt.plot(predictions[:10])"
   ]
  },
  {
   "cell_type": "code",
   "execution_count": 139,
   "id": "d3ceaff3",
   "metadata": {},
   "outputs": [
    {
     "data": {
      "text/plain": [
       "[<matplotlib.lines.Line2D at 0x1b6698349c8>]"
      ]
     },
     "execution_count": 139,
     "metadata": {},
     "output_type": "execute_result"
    },
    {
     "data": {
      "image/png": "[encoded data removed]",
      "text/plain": [
       "<Figure size 432x288 with 1 Axes>"
      ]
     },
     "metadata": {
      "needs_background": "light"
     },
     "output_type": "display_data"
    }
   ],
   "source": [
    "plt.plot(y_test[:10])  # min max scaling 0-1\n",
    "plt.plot(predictions[:10])"
   ]
  },
  {
   "cell_type": "markdown",
   "id": "16ac188f",
   "metadata": {},
   "source": [
    "## min max scalong 0-5  give good results"
   ]
  },
  {
   "cell_type": "code",
   "execution_count": 150,
   "id": "536310fc",
   "metadata": {},
   "outputs": [
    {
     "data": {
      "text/plain": [
       "[<matplotlib.lines.Line2D at 0x1b6673c45c8>]"
      ]
     },
     "execution_count": 150,
     "metadata": {},
     "output_type": "execute_result"
    },
    {
     "data": {
      "image/png": "[encoded data removed]",
      "text/plain": [
       "<Figure size 432x288 with 1 Axes>"
      ]
     },
     "metadata": {
      "needs_background": "light"
     },
     "output_type": "display_data"
    }
   ],
   "source": [
    "plt.plot(y_test)\n",
    "plt.plot(predictions) "
   ]
  },
  {
   "cell_type": "code",
   "execution_count": 165,
   "id": "20cbd98f",
   "metadata": {},
   "outputs": [
    {
     "data": {
      "text/plain": [
       "[<matplotlib.lines.Line2D at 0x1b66cb4a108>]"
      ]
     },
     "execution_count": 165,
     "metadata": {},
     "output_type": "execute_result"
    },
    {
     "data": {
      "image/png": "[encoded data removed]",
      "text/plain": [
       "<Figure size 432x288 with 1 Axes>"
      ]
     },
     "metadata": {
      "needs_background": "light"
     },
     "output_type": "display_data"
    }
   ],
   "source": [
    "plt.plot(y_test)\n",
    "plt.plot(predictions) "
   ]
  },
  {
   "cell_type": "markdown",
   "id": "40c86115",
   "metadata": {},
   "source": [
    "## 32 batch size and custom model\n"
   ]
  },
  {
   "cell_type": "code",
   "execution_count": 178,
   "id": "9ca59a2d",
   "metadata": {},
   "outputs": [
    {
     "data": {
      "text/plain": [
       "[<matplotlib.lines.Line2D at 0x1b64c40ab08>]"
      ]
     },
     "execution_count": 178,
     "metadata": {},
     "output_type": "execute_result"
    },
    {
     "data": {
      "image/png": "[encoded data removed]",
      "text/plain": [
       "<Figure size 432x288 with 1 Axes>"
      ]
     },
     "metadata": {
      "needs_background": "light"
     },
     "output_type": "display_data"
    }
   ],
   "source": [
    "plt.plot(y_test)\n",
    "plt.plot(predictions) "
   ]
  },
  {
   "cell_type": "code",
   "execution_count": 179,
   "id": "e1351387",
   "metadata": {},
   "outputs": [
    {
     "data": {
      "text/plain": [
       "[<matplotlib.lines.Line2D at 0x1b60c08c888>]"
      ]
     },
     "execution_count": 179,
     "metadata": {},
     "output_type": "execute_result"
    },
    {
     "data": {
      "image/png": "[encoded data removed]",
      "text/plain": [
       "<Figure size 432x288 with 1 Axes>"
      ]
     },
     "metadata": {
      "needs_background": "light"
     },
     "output_type": "display_data"
    }
   ],
   "source": [
    "plt.plot(y_test[:10])\n",
    "plt.plot(predictions[:10])"
   ]
  },
  {
   "cell_type": "code",
   "execution_count": 192,
   "id": "0ca0fb89",
   "metadata": {},
   "outputs": [
    {
     "data": {
      "text/plain": [
       "[<matplotlib.lines.Line2D at 0x1b67a5868c8>]"
      ]
     },
     "execution_count": 192,
     "metadata": {},
     "output_type": "execute_result"
    },
    {
     "data": {
      "image/png": "[encoded data removed]",
      "text/plain": [
       "<Figure size 432x288 with 1 Axes>"
      ]
     },
     "metadata": {
      "needs_background": "light"
     },
     "output_type": "display_data"
    }
   ],
   "source": [
    "plt.plot(y_test)           ## batch---64\n",
    "plt.plot(predictions) "
   ]
  },
  {
   "cell_type": "code",
   "execution_count": 193,
   "id": "e74357be",
   "metadata": {},
   "outputs": [
    {
     "data": {
      "text/plain": [
       "[<matplotlib.lines.Line2D at 0x1b67ea8ff48>]"
      ]
     },
     "execution_count": 193,
     "metadata": {},
     "output_type": "execute_result"
    },
    {
     "data": {
      "image/png": "[encoded data removed]",
      "text/plain": [
       "<Figure size 432x288 with 1 Axes>"
      ]
     },
     "metadata": {
      "needs_background": "light"
     },
     "output_type": "display_data"
    }
   ],
   "source": [
    "plt.plot(y_test[:10])\n",
    "plt.plot(predictions[:10])"
   ]
  },
  {
   "cell_type": "markdown",
   "id": "0866df86",
   "metadata": {},
   "source": [
    "## predicting future trend"
   ]
  },
  {
   "cell_type": "code",
   "execution_count": 221,
   "id": "aba7124a",
   "metadata": {},
   "outputs": [],
   "source": [
    "data=test_data[20-day:20, 0]"
   ]
  },
  {
   "cell_type": "code",
   "execution_count": 222,
   "id": "78ba0e9c",
   "metadata": {},
   "outputs": [
    {
     "data": {
      "text/plain": [
       "(20,)"
      ]
     },
     "execution_count": 222,
     "metadata": {},
     "output_type": "execute_result"
    }
   ],
   "source": [
    "data.shape"
   ]
  },
  {
   "cell_type": "code",
   "execution_count": 223,
   "id": "6a4284cf",
   "metadata": {},
   "outputs": [],
   "source": [
    "pred=model.predict(np.reshape(data,(1,X_test.shape[1], 1)))"
   ]
  },
  {
   "cell_type": "code",
   "execution_count": null,
   "id": "ee132dd6",
   "metadata": {},
   "outputs": [],
   "source": []
  },
  {
   "cell_type": "code",
   "execution_count": 230,
   "id": "7a17e66f",
   "metadata": {},
   "outputs": [],
   "source": [
    "\n",
    "y_test=dataset[2500:]\n",
    "predictions=[]\n",
    "data=test_data[20-day:20, 0]\n",
    "pred=model.predict(np.reshape(data,(1,X_test.shape[1], 1)))\n",
    "predictions.append(pred)\n",
    "for i in range(day+1,len(test_data)):\n",
    "    data=test_data[i-day:i-1, 0]\n",
    "    data=np.append(data,predictions[i-(day+1)])\n",
    "    pred=model.predict(np.reshape(data,(1,X_test.shape[1], 1)))\n",
    "    predictions.append(pred)\n"
   ]
  },
  {
   "cell_type": "code",
   "execution_count": 233,
   "id": "707756c1",
   "metadata": {},
   "outputs": [
    {
     "data": {
      "text/plain": [
       "(450,)"
      ]
     },
     "execution_count": 233,
     "metadata": {},
     "output_type": "execute_result"
    }
   ],
   "source": [
    "y_test.shape"
   ]
  },
  {
   "cell_type": "code",
   "execution_count": 241,
   "id": "4cee2a37",
   "metadata": {},
   "outputs": [],
   "source": [
    "pred=sc.inverse_transform(np.array(predictions).reshape(-1,1))"
   ]
  },
  {
   "cell_type": "code",
   "execution_count": 243,
   "id": "44764803",
   "metadata": {},
   "outputs": [
    {
     "data": {
      "text/plain": [
       "[<matplotlib.lines.Line2D at 0x1b67ea15348>]"
      ]
     },
     "execution_count": 243,
     "metadata": {},
     "output_type": "execute_result"
    },
    {
     "data": {
      "image/png": "[encoded data removed]",
      "text/plain": [
       "<Figure size 432x288 with 1 Axes>"
      ]
     },
     "metadata": {
      "needs_background": "light"
     },
     "output_type": "display_data"
    }
   ],
   "source": [
    "plt.plot(y_test[10:])\n",
    "plt.plot(pred)"
   ]
  },
  {
   "cell_type": "code",
   "execution_count": null,
   "id": "5e751a7c",
   "metadata": {},
   "outputs": [],
   "source": []
  }
 ],
 "metadata": {
  "kernelspec": {
   "display_name": "Python 3 (ipykernel)",
   "language": "python",
   "name": "python3"
  },
  "language_info": {
   "codemirror_mode": {
    "name": "ipython",
    "version": 3
   },
   "file_extension": ".py",
   "mimetype": "text/x-python",
   "name": "python",
   "nbconvert_exporter": "python",
   "pygments_lexer": "ipython3",
   "version": "3.7.11"
  }
 },
 "nbformat": 4,
 "nbformat_minor": 5
}
